{
 "cells": [
  {
   "cell_type": "markdown",
   "metadata": {},
   "source": [
    "## Python Functions"
   ]
  },
  {
   "cell_type": "markdown",
   "metadata": {},
   "source": [
    "#Function Definition \n",
    "#Return Statements\n",
    "#Arguments and its types\n",
    "#Modules\n",
    "#Try-except\n"
   ]
  },
  {
   "cell_type": "markdown",
   "metadata": {},
   "source": [
    "##### Function Definition\n",
    "A function in Python is a reusable block of code that performs a specific task. "
   ]
  },
  {
   "cell_type": "code",
   "execution_count": null,
   "metadata": {},
   "outputs": [],
   "source": [
    "def function_name(parameters):\n",
    "    #code block\n",
    "    # return result "
   ]
  },
  {
   "cell_type": "code",
   "execution_count": 1,
   "metadata": {},
   "outputs": [
    {
     "name": "stdout",
     "output_type": "stream",
     "text": [
      "Hello World\n"
     ]
    }
   ],
   "source": [
    "def foo():\n",
    "    print(\"Hello World\")\n",
    "\n",
    "foo()"
   ]
  },
  {
   "cell_type": "code",
   "execution_count": 2,
   "metadata": {},
   "outputs": [
    {
     "name": "stdout",
     "output_type": "stream",
     "text": [
      "2\n",
      "None\n"
     ]
    }
   ],
   "source": [
    "#Return Statement \n",
    "#A return statement is used to end the execution of the function call and \"returns\" the result.\n",
    "#The statements after the return statements are not executed. If the return statement is without any expression, then the special value None is returned.\n",
    "def foo():\n",
    "    print(\"2\")\n",
    "print(foo())"
   ]
  },
  {
   "cell_type": "code",
   "execution_count": 3,
   "metadata": {},
   "outputs": [
    {
     "name": "stdout",
     "output_type": "stream",
     "text": [
      "None\n"
     ]
    }
   ],
   "source": [
    "def foo():\n",
    "    2 + 2\n",
    "print(foo())"
   ]
  },
  {
   "cell_type": "code",
   "execution_count": 4,
   "metadata": {},
   "outputs": [
    {
     "data": {
      "text/plain": [
       "100"
      ]
     },
     "execution_count": 4,
     "metadata": {},
     "output_type": "execute_result"
    }
   ],
   "source": [
    "def foo():\n",
    "    c = 50 + 50\n",
    "    return c\n",
    "foo()"
   ]
  },
  {
   "cell_type": "code",
   "execution_count": 5,
   "metadata": {},
   "outputs": [
    {
     "data": {
      "text/plain": [
       "100"
      ]
     },
     "execution_count": 5,
     "metadata": {},
     "output_type": "execute_result"
    }
   ],
   "source": [
    "def foo():\n",
    "    return 50 + 50\n",
    "foo()"
   ]
  },
  {
   "cell_type": "code",
   "execution_count": 6,
   "metadata": {},
   "outputs": [
    {
     "name": "stdout",
     "output_type": "stream",
     "text": [
      "14\n"
     ]
    }
   ],
   "source": [
    "#We saw functions with zero arguments lets look at function with arguments\n",
    "def add_numbers(a, b):\n",
    "    sum_result = a + b\n",
    "    return sum_result\n",
    "\n",
    "result = add_numbers(5, 9)\n",
    "print(result)"
   ]
  },
  {
   "cell_type": "code",
   "execution_count": null,
   "metadata": {},
   "outputs": [],
   "source": [
    "# Imagine a scenario in a bakery where customers can place custom cake orders. The cost of a cake is determined\n",
    "# by the size, flavor, and additional decorations. The pricing is as follows: Small cake: 20Mediumcake :30 Large\n",
    "# cake: 40Additional flavoroptionscostanextra5, and each decoration adds $2 to the total cost. Write a\n",
    "# Python function to calculate the total cost of a custom cake order based on the size, flavor, and number of\n",
    "# decorations."
   ]
  },
  {
   "cell_type": "code",
   "execution_count": 7,
   "metadata": {},
   "outputs": [
    {
     "name": "stdout",
     "output_type": "stream",
     "text": [
      "The total cost for a Medium cake with chocolate flavor and 3 decorations is $41.\n"
     ]
    }
   ],
   "source": [
    "def calculate_custom_cake_cost(size, flavor, decorations):\n",
    "    base_price = 0\n",
    "\n",
    "    #Determine the base price based on the cake size\n",
    "    if size == \"small\":\n",
    "        base_price = 20\n",
    "    elif size == \"Medium\":\n",
    "        base_price = 30\n",
    "    elif size == \"large\":\n",
    "        base_price = 40\n",
    "\n",
    "    #Add extra cost for additional flavor\n",
    "    if flavor != \"plain\":\n",
    "        base_price += 5\n",
    "\n",
    "    #Add cost for each decoration\n",
    "    decoration_cost = 2 * decorations\n",
    "    total_cost = base_price + decoration_cost\n",
    "\n",
    "    return total_cost\n",
    "\n",
    "#Example:\n",
    "cake_size = \"Medium\"\n",
    "cake_flavor = \"chocolate\"\n",
    "decorations_count = 3\n",
    "\n",
    "total_cake_cost = calculate_custom_cake_cost(cake_size, cake_flavor, decorations_count)\n",
    "print(f\"The total cost for a {cake_size} cake with {cake_flavor} flavor and {decorations_count} decorations is ${total_cake_cost}.\")"
   ]
  },
  {
   "cell_type": "code",
   "execution_count": 8,
   "metadata": {},
   "outputs": [
    {
     "name": "stdout",
     "output_type": "stream",
     "text": [
      "The total cost for a Medium cake with chocolate flavor and 3 decorations is $38.\n"
     ]
    }
   ],
   "source": [
    "#Add optinal parameter\n",
    "def calculate_custom_cake_cost(size, flavor, decorations, discount = 3):\n",
    "    base_price = 0\n",
    "\n",
    "    #Determine the base price based on the cake size\n",
    "    if size == \"small\":\n",
    "        base_price = 20\n",
    "    elif size == \"Medium\":\n",
    "        base_price = 30\n",
    "    elif size == \"large\":\n",
    "        base_price = 40\n",
    "\n",
    "    #Add extra cost for additional flavor\n",
    "    if flavor != \"plain\":\n",
    "        base_price += 5\n",
    "\n",
    "    #Add cost for each decoration\n",
    "    decoration_cost = 2 * decorations\n",
    "    total_cost = base_price + decoration_cost - discount \n",
    "\n",
    "    return total_cost\n",
    "\n",
    "#Example:\n",
    "cake_size = \"Medium\"\n",
    "cake_flavor = \"chocolate\"\n",
    "decorations_count = 3\n",
    "\n",
    "total_cake_cost = calculate_custom_cake_cost(cake_size, cake_flavor, decorations_count)\n",
    "print(f\"The total cost for a {cake_size} cake with {cake_flavor} flavor and {decorations_count} decorations is ${total_cake_cost}.\")"
   ]
  },
  {
   "cell_type": "code",
   "execution_count": null,
   "metadata": {},
   "outputs": [],
   "source": [
    "# Named arguments\n",
    "# Invoking a function with many arguments can often get confusing, and is prone to human errors. Python\n",
    "# provides the option of invoking functions with named arguments, for better clarity."
   ]
  },
  {
   "cell_type": "code",
   "execution_count": null,
   "metadata": {},
   "outputs": [],
   "source": [
    "# Argument Tuple Packing\n",
    "# When a parameter name in a Python function definition is preceded by an asterisk (*), it indicates argument\n",
    "# tuple packing. Any corresponding arguments in the function call are packed into a tuple that the function can\n",
    "# refer to by the given parameter name."
   ]
  },
  {
   "cell_type": "code",
   "execution_count": 9,
   "metadata": {},
   "outputs": [],
   "source": [
    "def total(*args):\n",
    "    total = 0\n",
    "    for i in args:\n",
    "        total += i\n",
    "    print(total)"
   ]
  },
  {
   "cell_type": "code",
   "execution_count": 10,
   "metadata": {},
   "outputs": [],
   "source": [
    "def avg(*args):\n",
    "    total = 0\n",
    "    for i in args:\n",
    "        total += i\n",
    "    print(total/len(args))"
   ]
  },
  {
   "cell_type": "code",
   "execution_count": 11,
   "metadata": {},
   "outputs": [
    {
     "name": "stdout",
     "output_type": "stream",
     "text": [
      "(50, 30)\n"
     ]
    }
   ],
   "source": [
    "#Retunr multiple values from function\n",
    "def calculation(a, b):\n",
    "    addition = a + b\n",
    "    substraction = a - b\n",
    "    #return mutliple values separated by comma\n",
    "    return addition, substraction\n",
    "\n",
    "#Get result in tuple format\n",
    "res = calculation(40, 10)\n",
    "print(res)"
   ]
  },
  {
   "cell_type": "code",
   "execution_count": null,
   "metadata": {},
   "outputs": [],
   "source": [
    "#Nested functions\n",
    "\n",
    "# In Python, we can create a nested function inside a function. We can use the nested function to perform\n",
    "# complex tasks multiple times within another function or avoid loop and code duplication."
   ]
  },
  {
   "cell_type": "code",
   "execution_count": 12,
   "metadata": {},
   "outputs": [
    {
     "name": "stdout",
     "output_type": "stream",
     "text": [
      "25\n"
     ]
    }
   ],
   "source": [
    "#Outer function:\n",
    "def outer_fun(a,b):\n",
    "    square = a ** 2\n",
    "\n",
    "    #inner function\n",
    "    def addition(a,b):\n",
    "        return a + b\n",
    "    \n",
    "    #call inner function from outer function\n",
    "    add = addition(a, b)\n",
    "    #add 5 to the return\n",
    "    return add + 5\n",
    "\n",
    "result = outer_fun(5, 15)\n",
    "print(result)"
   ]
  },
  {
   "cell_type": "code",
   "execution_count": null,
   "metadata": {},
   "outputs": [],
   "source": [
    "# Recursive function\n",
    "\n",
    "# A recursive function is a function that calls itself again and again."
   ]
  },
  {
   "cell_type": "code",
   "execution_count": 13,
   "metadata": {},
   "outputs": [
    {
     "name": "stdout",
     "output_type": "stream",
     "text": [
      "210\n"
     ]
    }
   ],
   "source": [
    "def addition(num):\n",
    "    if num:\n",
    "        #call same function by reducing number by 1\n",
    "        return num + addition(num - 1)\n",
    "    else:\n",
    "        return 0\n",
    "    \n",
    "res = addition(20)\n",
    "print(res)"
   ]
  },
  {
   "cell_type": "code",
   "execution_count": null,
   "metadata": {},
   "outputs": [],
   "source": [
    "#Local variable and scope\n",
    "\n",
    "#The variable declared inside the function are not accessible outside function. "
   ]
  },
  {
   "cell_type": "code",
   "execution_count": 14,
   "metadata": {},
   "outputs": [
    {
     "name": "stdout",
     "output_type": "stream",
     "text": [
      "bob alice\n"
     ]
    }
   ],
   "source": [
    "def cat_twice(part1, part2):\n",
    "    cat = part1 + \" \" + part2\n",
    "    print(cat)\n",
    "cat_twice(\"bob\", \"alice\")"
   ]
  },
  {
   "cell_type": "code",
   "execution_count": 15,
   "metadata": {},
   "outputs": [
    {
     "ename": "NameError",
     "evalue": "name 'cat' is not defined",
     "output_type": "error",
     "traceback": [
      "\u001b[1;31m---------------------------------------------------------------------------\u001b[0m",
      "\u001b[1;31mNameError\u001b[0m                                 Traceback (most recent call last)",
      "Cell \u001b[1;32mIn[15], line 1\u001b[0m\n\u001b[1;32m----> 1\u001b[0m \u001b[43mcat\u001b[49m\n",
      "\u001b[1;31mNameError\u001b[0m: name 'cat' is not defined"
     ]
    }
   ],
   "source": [
    "cat"
   ]
  },
  {
   "cell_type": "code",
   "execution_count": null,
   "metadata": {},
   "outputs": [],
   "source": [
    "# Exceptions and try - except\n",
    "# . Definition:\n",
    "# . In Python, an exception is an event that occurs during the execution of a program and disrupts the\n",
    "# normal flow of instructions.\n",
    "# . When an exception occurs, the program terminates, unless it's handled properly\n",
    "\n",
    "# Need:\n",
    "\n",
    "# . Exceptions provide a way to gracefully handle errors or unexpected situations in a program.\n",
    "# . Instead of crashing, the program can catch and handle exceptions, allowing it to recover or provide\n",
    "# meaningful feedback to the user\n",
    "\n",
    "# Syntax try: # Code that may raise an exception # ... except ExceptionType as e: # Code to handle the exception #"
   ]
  },
  {
   "cell_type": "code",
   "execution_count": 16,
   "metadata": {},
   "outputs": [
    {
     "name": "stdout",
     "output_type": "stream",
     "text": [
      "Error : name 'c' is not defined\n"
     ]
    }
   ],
   "source": [
    "try: \n",
    "    print(c)\n",
    "except NameError as e: \n",
    "    print(f\"Error : {e}\")"
   ]
  },
  {
   "cell_type": "code",
   "execution_count": 17,
   "metadata": {},
   "outputs": [],
   "source": [
    "#syntax error does not work\n",
    "try:\n",
    "    def foo():\n",
    "        print(2)\n",
    "except IndentationError as e:\n",
    "    print(f\"Error : {e}\")\n",
    "        "
   ]
  },
  {
   "cell_type": "code",
   "execution_count": 18,
   "metadata": {},
   "outputs": [
    {
     "ename": "IndentationError",
     "evalue": "expected an indented block after function definition on line 3 (255483989.py, line 4)",
     "output_type": "error",
     "traceback": [
      "\u001b[1;36m  Cell \u001b[1;32mIn[18], line 4\u001b[1;36m\u001b[0m\n\u001b[1;33m    print(2)\u001b[0m\n\u001b[1;37m    ^\u001b[0m\n\u001b[1;31mIndentationError\u001b[0m\u001b[1;31m:\u001b[0m expected an indented block after function definition on line 3\n"
     ]
    }
   ],
   "source": [
    "#syntax error does not work\n",
    "try:\n",
    "    def foo():\n",
    "    print(2)\n",
    "except IndentationError as e:\n",
    "    print(f\"Error : {e}\")"
   ]
  },
  {
   "cell_type": "code",
   "execution_count": 19,
   "metadata": {},
   "outputs": [
    {
     "name": "stdout",
     "output_type": "stream",
     "text": [
      "Error : can only concatenate str (not \"int\") to str\n"
     ]
    }
   ],
   "source": [
    "try: \n",
    "    result = \"5\" + 5\n",
    "\n",
    "except TypeError as e:\n",
    "    print(f\"Error : {e}\")"
   ]
  },
  {
   "cell_type": "code",
   "execution_count": 20,
   "metadata": {},
   "outputs": [
    {
     "name": "stdout",
     "output_type": "stream",
     "text": [
      "Error : invalid literal for int() with base 10: 'abc'\n"
     ]
    }
   ],
   "source": [
    "try:\n",
    "    int(\"abc\")\n",
    "except ValueError as e:\n",
    "    print(f\"Error : {e}\")"
   ]
  },
  {
   "cell_type": "code",
   "execution_count": 21,
   "metadata": {},
   "outputs": [
    {
     "name": "stdout",
     "output_type": "stream",
     "text": [
      "Error : list index out of range\n"
     ]
    }
   ],
   "source": [
    "try:\n",
    "    my_list = [1, 2, 3]\n",
    "    print(my_list[4]) #Accessing an index beyond the length of the list\n",
    "except IndexError as e:\n",
    "    print(f\"Error : {e}\")"
   ]
  },
  {
   "cell_type": "code",
   "execution_count": 22,
   "metadata": {},
   "outputs": [
    {
     "name": "stdout",
     "output_type": "stream",
     "text": [
      "Error : [Errno 2] No such file or directory: 'nonexistent_file.txt'\n"
     ]
    }
   ],
   "source": [
    "try:\n",
    "    with open('nonexistent_file.txt', 'r') as file:\n",
    "        content = file.read() #Attempting to open a file that doesnot exist\n",
    "except FileNotFoundError as e:\n",
    "    print(f\"Error : {e}\")"
   ]
  },
  {
   "cell_type": "code",
   "execution_count": null,
   "metadata": {},
   "outputs": [],
   "source": [
    "# In this example, the try block contains code that may raise a ZeroDivisionError. If such an error occurs, the\n",
    "# program jumps to the except block where the exception is caught, and a meaningful error message is printed. If\n",
    "# no exception occurs, the else block is executed. try-except blocks help prevent program crashes and improve the\n",
    "# robustness of code"
   ]
  },
  {
   "cell_type": "code",
   "execution_count": 23,
   "metadata": {},
   "outputs": [
    {
     "name": "stdout",
     "output_type": "stream",
     "text": [
      "Error : division by zero\n",
      "Cannot divide by zero. Please provide a non-zero denominator.\n"
     ]
    }
   ],
   "source": [
    "try: \n",
    "    numertor = 10\n",
    "    denominator = 0\n",
    "    result = numertor / denominator\n",
    "except ZeroDivisionError as e:\n",
    "    print(f\"Error : {e}\")\n",
    "    print(\"Cannot divide by zero. Please provide a non-zero denominator.\")\n",
    "else:\n",
    "    print(f\"The result of the division is: {result}\")"
   ]
  },
  {
   "cell_type": "code",
   "execution_count": 24,
   "metadata": {},
   "outputs": [
    {
     "name": "stdout",
     "output_type": "stream",
     "text": [
      "An exception occurred: division by zero\n"
     ]
    }
   ],
   "source": [
    "try:\n",
    "    # Your code here\n",
    "    numerator = 10\n",
    "    denominator = 0\n",
    "    result = numerator / denominator\n",
    "    raise Exception()\n",
    "except Exception as e:\n",
    "    print(f\"An exception occurred: {e}\")"
   ]
  },
  {
   "cell_type": "code",
   "execution_count": null,
   "metadata": {},
   "outputs": [],
   "source": [
    "# Documenting functions using Docstrings\n",
    "# Docstrings are used to provide documentation for Python functions, modules, classes, or methods. They are\n",
    "# enclosed in triple-quotes (\" or \"\"\") and are placed immediately after the function, module, or dass definition.\n",
    "# Docstrings serve as a form of inline documentation, helping other developers understand the purpose and\n",
    "# usage of the code."
   ]
  },
  {
   "cell_type": "code",
   "execution_count": 25,
   "metadata": {},
   "outputs": [],
   "source": [
    "def calculate_area(radius):\n",
    "    \n",
    "    \"\"\"Calculate the area of a circle.\n",
    "\n",
    "        Parameters:\n",
    "        - radius (float): The radius of the circle.\n",
    "\n",
    "        Returns:\n",
    "        float: The area of the circle.\n",
    "    \"\"\"\n",
    "    pi = 3.14159\n",
    "    area = pi * radius ** 2\n",
    "    return area"
   ]
  },
  {
   "cell_type": "code",
   "execution_count": null,
   "metadata": {},
   "outputs": [],
   "source": [
    "# Advantages of Using Docstrings:\n",
    "# . Clarity: Docstrings make code more readable and understandable by providing context and usage\n",
    "# information.\n",
    "# . Documentation Generation: Tools like Sphinx can automatically generate documentation from\n",
    "# docstrings, creating detailed documentation for your project.\n",
    "# . Interactive Help: Docstrings can be accessed interactively in Python, providing instant help to developers\n",
    "# using your code."
   ]
  },
  {
   "cell_type": "code",
   "execution_count": 26,
   "metadata": {},
   "outputs": [
    {
     "name": "stdout",
     "output_type": "stream",
     "text": [
      "The maximum of the three numbers is: 111\n"
     ]
    }
   ],
   "source": [
    "# write a python function to find the maximum of three numbers\n",
    "def find_maximum(a, b, c):\n",
    "    return max(a, b, c)\n",
    "\n",
    "# Example usage:\n",
    "num1 = 111\n",
    "num2 = 5\n",
    "num3 = 99\n",
    "\n",
    "print(\"The maximum of the three numbers is:\", find_maximum(num1, num2, num3))\n"
   ]
  },
  {
   "cell_type": "code",
   "execution_count": 27,
   "metadata": {},
   "outputs": [
    {
     "name": "stdout",
     "output_type": "stream",
     "text": [
      "The sum of the numbers in the list is: 20\n"
     ]
    }
   ],
   "source": [
    "# Write a python function to sum all the numbers in a list. sample list:(8,2,3,0,7) expected output: 20\n",
    "def sum_of_list(num):\n",
    "    return sum(num)\n",
    "\n",
    "# Example usage:\n",
    "sample_list = [8, 2, 3, 0, 7]\n",
    "print(\"The sum of the numbers in the list is:\", sum_of_list(sample_list))\n"
   ]
  },
  {
   "cell_type": "code",
   "execution_count": 28,
   "metadata": {},
   "outputs": [
    {
     "name": "stdout",
     "output_type": "stream",
     "text": [
      "The product of the numbers in the list is: -336\n"
     ]
    }
   ],
   "source": [
    "# Write a python function to multiply all the numbers in a list. sample list:(8,2,3,-1,7) expected output:-336\n",
    "def multiply_list(num):\n",
    "    result = 1\n",
    "    for number in num:\n",
    "        result *= number\n",
    "    return result\n",
    "\n",
    "# Example usage:\n",
    "sample_list = [8, 2, 3, -1, 7]\n",
    "print(\"The product of the numbers in the list is:\", multiply_list(sample_list))\n"
   ]
  }
 ],
 "metadata": {
  "kernelspec": {
   "display_name": "Python 3",
   "language": "python",
   "name": "python3"
  },
  "language_info": {
   "codemirror_mode": {
    "name": "ipython",
    "version": 3
   },
   "file_extension": ".py",
   "mimetype": "text/x-python",
   "name": "python",
   "nbconvert_exporter": "python",
   "pygments_lexer": "ipython3",
   "version": "3.12.6"
  }
 },
 "nbformat": 4,
 "nbformat_minor": 2
}
