{
 "cells": [
  {
   "cell_type": "code",
   "execution_count": null,
   "metadata": {},
   "outputs": [],
   "source": [
    "# Introduction to Pandas DataFrames\n",
    "\n",
    "# Pandas DataFrames are powerful data structures in\n",
    "# Python that offer SQL-like functionality with added\n",
    "# flexibility. They allow for efficient data manipulation\n",
    "# and analysis, making them an excellent choice for\n",
    "# data scientists and analysts transitioning from SQL."
   ]
  },
  {
   "cell_type": "code",
   "execution_count": null,
   "metadata": {},
   "outputs": [],
   "source": [
    "import pandas as pd\n",
    "#create a simple DataFrame\n",
    "data = {'Name': ['Alice', 'Bob', 'Charlie'],\n",
    "        'Age': [25, 30, 35],\n",
    "        'City': ['New York', 'London', 'Amsterdam']}\n",
    "df = pd.DataFrame(data)\n",
    "print(df)"
   ]
  },
  {
   "cell_type": "code",
   "execution_count": null,
   "metadata": {},
   "outputs": [],
   "source": [
    "# Loading Data from CSV Files\n",
    "# One of the most common ways to create a\n",
    "# DataFrame is by loading data from a CSV file. This\n",
    "# process is straightforward and allows you to quickly\n",
    "# import large datasets."
   ]
  },
  {
   "cell_type": "code",
   "execution_count": null,
   "metadata": {},
   "outputs": [],
   "source": [
    "import pandas as pd\n",
    "# Load data from a csv file\n",
    "df = pd.read_csv('file_name.csv')\n",
    "print(df.head())"
   ]
  },
  {
   "cell_type": "code",
   "execution_count": null,
   "metadata": {},
   "outputs": [],
   "source": [
    "# Basic Data Exploration\n",
    "# After loading your data, it's essential to get an\n",
    "# overview of its structure and contents. Pandas\n",
    "# provides several methods to quickly explore your\n",
    "# DataFrame."
   ]
  },
  {
   "cell_type": "code",
   "execution_count": null,
   "metadata": {},
   "outputs": [],
   "source": [
    "#Dispaly basic information about the DataFrame\n",
    "print(df.info())\n",
    "\n",
    "#Show summary stastistics\n",
    "print(df.describe())\n",
    "\n",
    "#Display the first few rows\n",
    "print(df.head(5))\n",
    "\n",
    "#Display the last few rows\n",
    "print(df.tail(5))"
   ]
  },
  {
   "cell_type": "code",
   "execution_count": null,
   "metadata": {},
   "outputs": [],
   "source": [
    "# Selecting Columns\n",
    "# In SQL, you would use the SELECT statement to\n",
    "# choose specific columns. In Pandas, you can easily\n",
    "# select one or multiple columns using various\n",
    "# methods."
   ]
  },
  {
   "cell_type": "code",
   "execution_count": null,
   "metadata": {},
   "outputs": [],
   "source": [
    "#Select a single Column\n",
    "ages = df['Age']\n",
    "\n",
    "#Select multiple columns\n",
    "subset = df[['Name', 'City']]\n",
    "\n",
    "#Select the columns using dot notation\n",
    "names = df.Names"
   ]
  },
  {
   "cell_type": "code",
   "execution_count": null,
   "metadata": {},
   "outputs": [],
   "source": [
    "# Filtering Data\n",
    "# Filtering data in Pandas is similar to using the\n",
    "# WHERE clause in SQL. You can apply boolean\n",
    "# conditions to select rows that meet specific criteria."
   ]
  },
  {
   "cell_type": "code",
   "execution_count": null,
   "metadata": {},
   "outputs": [],
   "source": [
    "#Filter rows where Age is greater than 30\n",
    "older_than_30 = df[df['Age'] > 30]\n",
    "\n",
    "#Filter rows with multiple conditions\n",
    "new_yorkers_over_25 = df[(df['City'] == 'New York') & (df['Age'] > 25)]"
   ]
  },
  {
   "cell_type": "code",
   "execution_count": null,
   "metadata": {},
   "outputs": [],
   "source": [
    "#Sorting the data\n",
    "#Sorting the data in Pandas is equivalent to using the ORDER BY clause in SQL. \n",
    "# You can sort by one or multiple columns in ascending or descending order.  "
   ]
  },
  {
   "cell_type": "code",
   "execution_count": null,
   "metadata": {},
   "outputs": [],
   "source": [
    "#Sort by a single column\n",
    "sorted_by_age = df.sort_values('Age')\n",
    "\n",
    "#Sort by multiple columns\n",
    "sorted_by_city_and_age = df.sort_values(['City', 'Age'], ascending=[True, False])"
   ]
  },
  {
   "cell_type": "code",
   "execution_count": null,
   "metadata": {},
   "outputs": [],
   "source": [
    "# Grouping and Aggregation\n",
    "# Grouping and aggregation in Pandas are similar to\n",
    "# GROUP BY and aggregate functions in SQL. This\n",
    "# allows you to perform calculations on groups of data."
   ]
  },
  {
   "cell_type": "code",
   "execution_count": null,
   "metadata": {},
   "outputs": [],
   "source": [
    "#Group by city and calculate mean age\n",
    "average_age_by_city = df.groupby('City')['Age'].mean()\n",
    "\n",
    "#Group by City and get multiple statistics\n",
    "stats_by_city = df.groupby('City').agg({'Age': ['mean', 'max', 'min']})"
   ]
  },
  {
   "cell_type": "code",
   "execution_count": null,
   "metadata": {},
   "outputs": [],
   "source": [
    "# Joining DataFrames\n",
    "# Joining DataFrames in Pandas is similar to JOIN\n",
    "# operations in SQL. You can combine data from\n",
    "# multiple DataFrames based on common columns or\n",
    "# indexes."
   ]
  },
  {
   "cell_type": "code",
   "execution_count": null,
   "metadata": {},
   "outputs": [],
   "source": [
    "#Create two DataFrames\n",
    "df1 = pd.DataFrame({'ID': [1,2,3], 'Name':['Alice', 'Bob', 'Charlie']})\n",
    "df2 = pd.DataFrame({'ID': [2,3,4], 'City': ['London', 'New York', 'Amsterdam']})\n",
    "\n",
    "#perform inner join\n",
    "merged_df = pd.merge(df1, df2, on='ID', how='inner')\n",
    "print(merged_df)"
   ]
  },
  {
   "cell_type": "code",
   "execution_count": null,
   "metadata": {},
   "outputs": [],
   "source": [
    "# Adding and Modifying Columns\n",
    "# In Pandas, you can easily add new columns or\n",
    "# modify existing ones using simple operations or\n",
    "# apply custom functions."
   ]
  },
  {
   "cell_type": "code",
   "execution_count": null,
   "metadata": {},
   "outputs": [],
   "source": [
    "#Add a new column\n",
    "df['YearOfBirth'] = 2024 - df['Age']\n",
    "\n",
    "#Modify an existing column\n",
    "df['Name'] = df['Name'].str.upper()\n",
    "\n",
    "#Apply a custom function to create a new column\n",
    "def age_category(age):\n",
    "    return 'Young' if age < 30 else 'Adult'\n",
    "\n",
    "df['AgeCategory'] = df['Age'].apply(age_category)"
   ]
  },
  {
   "cell_type": "code",
   "execution_count": null,
   "metadata": {},
   "outputs": [],
   "source": [
    "# Handling Missing Data\n",
    "# Pandas provides various methods to handle missing\n",
    "# data, which is a common task in data preprocessing\n",
    "# and cleaning."
   ]
  },
  {
   "cell_type": "code",
   "execution_count": null,
   "metadata": {},
   "outputs": [],
   "source": [
    "#Fill missing values with a specific value\n",
    "df['Age'].fillna(0, inplace=True)\n",
    "\n",
    "#Drop rows with any missing values\n",
    "df_cleaned = df.dropna()\n",
    "\n",
    "#Replace missing values with the mean of the column\n",
    "df['Age'].fillna(df['Age'].mean(), inplace=True)"
   ]
  },
  {
   "cell_type": "code",
   "execution_count": null,
   "metadata": {},
   "outputs": [],
   "source": [
    "# Pivot Tables\n",
    "# Pivot tables in Pandas allow you to reshape and\n",
    "# summarize data, similar to PIVOT operations in SQL."
   ]
  },
  {
   "cell_type": "code",
   "execution_count": null,
   "metadata": {},
   "outputs": [],
   "source": [
    "#Create a pivot table\n",
    "pivot_table = pd.pivot_table(df, values='Age', index='City', columns='AgeCategory', aggfunc='mean')\n",
    "print(pivot_table)"
   ]
  },
  {
   "cell_type": "code",
   "execution_count": null,
   "metadata": {},
   "outputs": [],
   "source": [
    "# Time Series Data\n",
    "# Pandas excels at handling time series data, offering\n",
    "# powerful tools for date-based operations and\n",
    "# analysis."
   ]
  },
  {
   "cell_type": "code",
   "execution_count": null,
   "metadata": {},
   "outputs": [],
   "source": [
    "#Create a date range\n",
    "date_range = pd.date_range(start='2021-01-01', end='2025-01-01', freq='D')\n",
    "\n",
    "#Create a time series DataFrame\n",
    "ts_df = pd.DataFrame({'Date': date_range, 'Value': range(len(date_range))})\n",
    "ts_df.set_index('Date', inplace=True)\n",
    "\n",
    "#Resample to monthly frequency\n",
    "monthly_avg = ts_df.resample('M').mean()"
   ]
  },
  {
   "cell_type": "code",
   "execution_count": null,
   "metadata": {},
   "outputs": [],
   "source": [
    "# Data Visualization with Pandas\n",
    "# Pandas integrates well with plotting libraries,\n",
    "# allowing you to create quick visualizations directly\n",
    "# from your DataFrame."
   ]
  },
  {
   "cell_type": "code",
   "execution_count": null,
   "metadata": {},
   "outputs": [],
   "source": [
    "import matplotlib.pyplot as plt\n",
    "\n",
    "#create a bar plot\n",
    "df['Age'].plot(kind='bar')\n",
    "plt.title('Age Distribution')\n",
    "plt.xlabel('Index')\n",
    "plt.ylabel('Age')\n",
    "plt.show()\n",
    "\n",
    "#Create a scatter plot\n",
    "df.plot.scatter(x='Age', y='YearOfBirth')\n",
    "plt.title('Age vs Year of Birth')\n",
    "plt.show()"
   ]
  },
  {
   "cell_type": "code",
   "execution_count": null,
   "metadata": {},
   "outputs": [],
   "source": [
    "# Exporting Data\n",
    "# After manipulating your data with Pandas, you can\n",
    "# easily export it to various formats for further use or\n",
    "# sharing."
   ]
  },
  {
   "cell_type": "code",
   "execution_count": null,
   "metadata": {},
   "outputs": [],
   "source": [
    "#Export to csv\n",
    "df.to_csv('output.csv', index=False)\n",
    "\n",
    "#Export to Excel\n",
    "df.to_excel('output.xlsx', sheet_name='Sheet1', index=False)\n",
    "\n",
    "#Export to JSON\n",
    "df.to_json('output.json', orient='records')"
   ]
  }
 ],
 "metadata": {
  "kernelspec": {
   "display_name": "Python 3",
   "language": "python",
   "name": "python3"
  },
  "language_info": {
   "codemirror_mode": {
    "name": "ipython",
    "version": 3
   },
   "file_extension": ".py",
   "mimetype": "text/x-python",
   "name": "python",
   "nbconvert_exporter": "python",
   "pygments_lexer": "ipython3",
   "version": "3.12.6"
  }
 },
 "nbformat": 4,
 "nbformat_minor": 2
}
