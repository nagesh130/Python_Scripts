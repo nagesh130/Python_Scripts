{
 "cells": [
  {
   "cell_type": "code",
   "execution_count": 1,
   "metadata": {},
   "outputs": [
    {
     "name": "stdout",
     "output_type": "stream",
     "text": [
      "5\n",
      "5\n",
      "15\n",
      "2.0\n"
     ]
    }
   ],
   "source": [
    "add = lambda x, y: x + y\n",
    "subract = lambda x, y: x - y\n",
    "multiply = lambda x, y: x * y \n",
    "divide = lambda x, y: x / y \n",
    "\n",
    "print(add(2,3))\n",
    "print(subract(8, 3))\n",
    "print(multiply(3 ,5))\n",
    "print(divide(10, 5))"
   ]
  },
  {
   "cell_type": "code",
   "execution_count": 2,
   "metadata": {},
   "outputs": [
    {
     "name": "stdout",
     "output_type": "stream",
     "text": [
      "[(4, 1), (2, 3), (1, 5), (3, 8)]\n"
     ]
    }
   ],
   "source": [
    "#Sorting a List of Tuples:\n",
    "\n",
    "pairs = [(1, 5), (2, 3), (4, 1), (3, 8)]\n",
    "sorted_pairs = sorted(pairs, key=lambda x: x[1])\n",
    "print(sorted_pairs)\n"
   ]
  },
  {
   "cell_type": "code",
   "execution_count": 3,
   "metadata": {},
   "outputs": [
    {
     "name": "stdout",
     "output_type": "stream",
     "text": [
      "[2, 4, 6, 8]\n"
     ]
    }
   ],
   "source": [
    "numbers = [1, 2, 3, 4, 5, 6, 7, 8, 9]\n",
    "even_numbers = list(filter(lambda x: x % 2 == 0, numbers))\n",
    "print(even_numbers)"
   ]
  },
  {
   "cell_type": "code",
   "execution_count": 4,
   "metadata": {},
   "outputs": [
    {
     "name": "stdout",
     "output_type": "stream",
     "text": [
      "[1, 4, 9, 16, 25]\n"
     ]
    }
   ],
   "source": [
    "#Mapping a function to a list:\n",
    "numbers = [1, 2, 3, 4, 5]\n",
    "squared_numbers = list(map(lambda x: x**2, numbers))\n",
    "print(squared_numbers) "
   ]
  },
  {
   "cell_type": "code",
   "execution_count": 5,
   "metadata": {},
   "outputs": [
    {
     "name": "stdout",
     "output_type": "stream",
     "text": [
      "[2, 4, 6, 8, 10]\n",
      "[1, 3, 5]\n"
     ]
    }
   ],
   "source": [
    "#Using lambda with map and filter:\n",
    "numbers = [1, 2, 3, 4, 5]\n",
    "doubled_numbers = list(map(lambda x: x * 2, numbers))\n",
    "print(doubled_numbers)\n",
    "\n",
    "odd_numbers = list(filter(lambda x: x % 2 != 0, numbers))\n",
    "print(odd_numbers)"
   ]
  },
  {
   "cell_type": "code",
   "execution_count": 6,
   "metadata": {},
   "outputs": [
    {
     "name": "stdout",
     "output_type": "stream",
     "text": [
      "['kiwi', 'apple', 'banana', 'orange']\n"
     ]
    }
   ],
   "source": [
    "#Using lambda in Key functions:\n",
    "words = ['apple', 'banana', 'kiwi', 'orange']\n",
    "sorted_words = sorted(words, key=lambda x: len(x))\n",
    "print(sorted_words)"
   ]
  },
  {
   "cell_type": "code",
   "execution_count": 7,
   "metadata": {},
   "outputs": [
    {
     "name": "stdout",
     "output_type": "stream",
     "text": [
      "20\n"
     ]
    }
   ],
   "source": [
    "#Creating a functions on fly:\n",
    "Calculator = {\n",
    "    'add': lambda x, y: x + y,\n",
    "    'subtract': lambda x, y: x - y,\n",
    "    'multiply': lambda x, y: x * y,\n",
    "    'divide': lambda x, y: x / y,\n",
    "}\n",
    "\n",
    "result = Calculator['multiply'](4, 5)\n",
    "print(result)"
   ]
  },
  {
   "cell_type": "code",
   "execution_count": 8,
   "metadata": {},
   "outputs": [
    {
     "name": "stdout",
     "output_type": "stream",
     "text": [
      "[1, 4, 9, 16, 25]\n"
     ]
    }
   ],
   "source": [
    "#Using lambda in a list Comprehensions:\n",
    "numbers = [1, 2, 3, 4, 5]\n",
    "squared_numbers\t= [(lambda x: x**2)(x) for x in numbers]\n",
    "print(squared_numbers)"
   ]
  },
  {
   "cell_type": "code",
   "execution_count": 9,
   "metadata": {},
   "outputs": [
    {
     "name": "stdout",
     "output_type": "stream",
     "text": [
      "2.0\n"
     ]
    }
   ],
   "source": [
    "#Lambda functions in higher order functions:\n",
    "def operate_on_numbers(x, y, operations):\n",
    "    return operations(x, y)\n",
    "\n",
    "result = operate_on_numbers(10, 5, lambda x, y: x / y)\n",
    "print(result)"
   ]
  }
 ],
 "metadata": {
  "kernelspec": {
   "display_name": "Python 3",
   "language": "python",
   "name": "python3"
  },
  "language_info": {
   "codemirror_mode": {
    "name": "ipython",
    "version": 3
   },
   "file_extension": ".py",
   "mimetype": "text/x-python",
   "name": "python",
   "nbconvert_exporter": "python",
   "pygments_lexer": "ipython3",
   "version": "3.12.6"
  }
 },
 "nbformat": 4,
 "nbformat_minor": 2
}
